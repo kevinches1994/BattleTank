{
 "cells": [
  {
   "cell_type": "code",
   "execution_count": 3,
   "id": "c023c482",
   "metadata": {},
   "outputs": [],
   "source": [
    "%run -i \"main.py\" # single quotes for linux and Mac"
   ]
  }
 ],
 "metadata": {
  "kernelspec": {
   "display_name": "Python 3",
   "language": "python",
   "name": "python3"
  },
  "language_info": {
   "codemirror_mode": {
    "name": "ipython",
    "version": 3
   },
   "file_extension": ".py",
   "mimetype": "text/x-python",
   "name": "python",
   "nbconvert_exporter": "python",
   "pygments_lexer": "ipython3",
   "version": "3.9.7"
  }
 },
 "nbformat": 4,
 "nbformat_minor": 5
}
