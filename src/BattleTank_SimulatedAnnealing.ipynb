{
 "cells": [
  {
   "cell_type": "code",
   "execution_count": 1,
   "id": "7d558903",
   "metadata": {},
   "outputs": [],
   "source": [
    "from BattleTankProblem import *\n",
    "from BattleTankUI import *\n",
    "from BattleTankController import *\n",
    "initial = np.asarray([9,1])\n",
    "problem = BattleTank(initial)\n",
    "gameUI = BattleTankUI(problem.rows_number, problem.columns_number, problem.game_grid)\n",
    "controller = BattleTankController(problem, gameUI)\n",
    "#controller.show()"
   ]
  },
  {
   "cell_type": "code",
   "execution_count": null,
   "id": "312df0cc",
   "metadata": {},
   "outputs": [],
   "source": [
    "controller.show()"
   ]
  },
  {
   "cell_type": "code",
   "execution_count": null,
   "id": "0b6ddf97",
   "metadata": {},
   "outputs": [],
   "source": [
    "controller.gameUI.window.mainloop()"
   ]
  },
  {
   "cell_type": "code",
   "execution_count": null,
   "id": "048c81b4",
   "metadata": {},
   "outputs": [],
   "source": [
    "controller.hide()"
   ]
  },
  {
   "cell_type": "code",
   "execution_count": null,
   "id": "20b3c029",
   "metadata": {},
   "outputs": [],
   "source": []
  }
 ],
 "metadata": {
  "kernelspec": {
   "display_name": "Python 3",
   "language": "python",
   "name": "python3"
  },
  "language_info": {
   "codemirror_mode": {
    "name": "ipython",
    "version": 3
   },
   "file_extension": ".py",
   "mimetype": "text/x-python",
   "name": "python",
   "nbconvert_exporter": "python",
   "pygments_lexer": "ipython3",
   "version": "3.9.7"
  }
 },
 "nbformat": 4,
 "nbformat_minor": 5
}
