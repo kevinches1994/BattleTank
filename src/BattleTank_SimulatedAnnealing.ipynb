{
 "cells": [
  {
   "cell_type": "code",
   "execution_count": 1,
   "id": "7d558903",
   "metadata": {},
   "outputs": [],
   "source": [
    "from BattleTankProblem import *\n",
    "from BattleTankUI import *\n",
    "from BattleTankController import *\n",
    "initial = np.asarray([9,1])\n",
    "problem = BattleTank(initial)\n",
    "gameUI = BattleTankUI(problem.rows_number, problem.columns_number, problem.game_grid)\n",
    "controller = BattleTankController(problem, gameUI)\n",
    "#controller.show()"
   ]
  },
  {
   "cell_type": "code",
   "execution_count": 2,
   "id": "70770f45",
   "metadata": {},
   "outputs": [],
   "source": [
    "controller.show()"
   ]
  },
  {
   "cell_type": "code",
   "execution_count": 4,
   "id": "a1c9d500",
   "metadata": {},
   "outputs": [],
   "source": [
    "controller.gameUI.mainloop()"
   ]
  },
  {
   "cell_type": "code",
   "execution_count": null,
   "id": "fcf95fe0",
   "metadata": {},
   "outputs": [],
   "source": [
    "controller.hide()"
   ]
  },
  {
   "cell_type": "code",
   "execution_count": null,
   "id": "e954d56e",
   "metadata": {},
   "outputs": [],
   "source": []
  }
 ],
 "metadata": {
  "kernelspec": {
   "display_name": "Python 3",
   "language": "python",
   "name": "python3"
  },
  "language_info": {
   "codemirror_mode": {
    "name": "ipython",
    "version": 3
   },
   "file_extension": ".py",
   "mimetype": "text/x-python",
   "name": "python",
   "nbconvert_exporter": "python",
   "pygments_lexer": "ipython3",
   "version": "3.9.7"
  }
 },
 "nbformat": 4,
 "nbformat_minor": 5
}
