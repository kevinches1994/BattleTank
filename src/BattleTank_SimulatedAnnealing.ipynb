{
 "cells": [
  {
   "cell_type": "code",
   "execution_count": null,
   "id": "7d558903",
   "metadata": {},
   "outputs": [
    {
     "name": "stdout",
     "output_type": "stream",
     "text": [
      "Playing with using simulated annealing\n",
      "[array([9, 2]), array([9, 3]), array([9, 2]), array([8, 2]), array([7, 2]), array([7, 3]), array([7, 2]), array([7, 3]), array([6, 3]), array([5, 3]), array([4, 3]), array([3, 3]), array([4, 3]), array([3, 3]), array([4, 3]), array([3, 3]), array([4, 3]), array([4, 2]), array([4, 3]), array([4, 2]), array([5, 2]), array([5, 1]), array([4, 1]), array([4, 2]), array([3, 2]), array([2, 2]), array([1, 2]), array([1, 3]), array([1, 2]), array([2, 2]), array([2, 1]), array([1, 1]), array([2, 1]), array([3, 1]), array([3, 2]), array([4, 2]), array([4, 3]), array([3, 3]), array([3, 2]), array([3, 1]), array([4, 1]), array([3, 1]), array([2, 1]), array([1, 1]), array([2, 1]), array([3, 1]), array([3, 2]), array([3, 1]), array([2, 1]), array([3, 1]), array([3, 2]), array([3, 1]), array([2, 1]), array([3, 1]), array([4, 1]), array([3, 1]), array([2, 1]), array([1, 1]), array([1, 2]), array([1, 3]), array([2, 3]), array([2, 2]), array([3, 2]), array([3, 3]), array([2, 3]), array([2, 2]), array([2, 3]), array([2, 4]), array([2, 5]), array([2, 4]), array([1, 4]), array([1, 3]), array([1, 2]), array([1, 1]), array([2, 1]), array([1, 1]), array([2, 1]), array([2, 2]), array([1, 2]), array([1, 1]), array([1, 2]), array([2, 2]), array([2, 1]), array([3, 1]), array([2, 1]), array([1, 1]), array([1, 2]), array([2, 2]), array([2, 3]), array([3, 3]), array([4, 3]), array([5, 3]), array([5, 4]), array([5, 5]), array([5, 6]), array([5, 5]), array([5, 6]), array([5, 5]), array([4, 5]), array([5, 5])]\n"
     ]
    }
   ],
   "source": [
    "from BattleTankProblem import *\n",
    "from BattleTankUI import *\n",
    "from BattleTankController import *\n",
    "initial = np.asarray([9,1])\n",
    "problem = BattleTank(initial)\n",
    "gameUI = BattleTankUI(problem.rows_number, problem.columns_number, problem.game_grid)\n",
    "controller = BattleTankController(problem, gameUI)\n",
    "gameUI.set_controller(controller)\n",
    "controller.show()\n",
    "gameUI.mainloop()"
   ]
  },
  {
   "cell_type": "code",
   "execution_count": null,
   "id": "c023c482",
   "metadata": {},
   "outputs": [],
   "source": []
  }
 ],
 "metadata": {
  "kernelspec": {
   "display_name": "Python 3",
   "language": "python",
   "name": "python3"
  },
  "language_info": {
   "codemirror_mode": {
    "name": "ipython",
    "version": 3
   },
   "file_extension": ".py",
   "mimetype": "text/x-python",
   "name": "python",
   "nbconvert_exporter": "python",
   "pygments_lexer": "ipython3",
   "version": "3.9.7"
  }
 },
 "nbformat": 4,
 "nbformat_minor": 5
}
